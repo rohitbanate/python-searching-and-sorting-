{
 "cells": [
  {
   "cell_type": "markdown",
   "id": "fee8a28b",
   "metadata": {},
   "source": [
    "### Python Program for Binary Search (Recursive and Iterative)\n"
   ]
  },
  {
   "cell_type": "code",
   "execution_count": null,
   "id": "8f87d826",
   "metadata": {},
   "outputs": [],
   "source": [
    "    "
   ]
  },
  {
   "cell_type": "code",
   "execution_count": 1,
   "id": "1f491192",
   "metadata": {},
   "outputs": [
    {
     "name": "stdout",
     "output_type": "stream",
     "text": [
      "element is present at 3\n"
     ]
    }
   ],
   "source": [
    "def binary_search(arr, low, high, x):\n",
    "    \n",
    "    if high >= low:\n",
    "        mid = (high+low)//2\n",
    "        \n",
    "        if arr[mid] == x:\n",
    "            return mid\n",
    "        \n",
    "        elif arr[mid]>x:\n",
    "            return binary_search(arr, low, mid-1, x)\n",
    "        \n",
    "        else:\n",
    "            return binary_search(arr, mid+1,high, x)\n",
    "        \n",
    "    else:\n",
    "        return -1\n",
    "    \n",
    "    \n",
    "arr = [ 2, 3, 4, 10, 40 ]\n",
    "x = 10\n",
    "\n",
    "result = binary_search(arr, 0, len(arr)-1, x)\n",
    "\n",
    "if result == -1:\n",
    "    print(\"element is not present in the array\")\n",
    "else:\n",
    "    print(\"element is present at {}\".format(result))\n",
    "        "
   ]
  },
  {
   "cell_type": "code",
   "execution_count": 2,
   "id": "a0ccc622",
   "metadata": {},
   "outputs": [
    {
     "name": "stdout",
     "output_type": "stream",
     "text": [
      "the position in the array is :4\n"
     ]
    }
   ],
   "source": [
    "def binary_search(arr, x):\n",
    "\n",
    "    low = 0\n",
    "    high = len(arr)-1\n",
    "    \n",
    "    while high >= low:\n",
    "        mid = (high+low)//2\n",
    "        \n",
    "        \n",
    "        \n",
    "        \n",
    "        if arr[mid]<x:\n",
    "            low = mid+1\n",
    "            \n",
    "            \n",
    "        elif arr[mid]>x:\n",
    "            high = mid-1\n",
    "            \n",
    "        else:\n",
    "            return mid\n",
    "    return -1\n",
    "\n",
    "\n",
    "arr = [ 2, 3, 4, 10, 40 ]\n",
    "x = 40     \n",
    "\n",
    "result = binary_search(arr, x)\n",
    "if result != -1:\n",
    "    print(\"the position in the array is :{}\".format(result))\n",
    "else:\n",
    "    print(\"element is not present in array\")"
   ]
  },
  {
   "cell_type": "markdown",
   "id": "cb2ceb4c",
   "metadata": {},
   "source": [
    "### Python Program for Linear Search\n"
   ]
  },
  {
   "cell_type": "code",
   "execution_count": 3,
   "id": "73f7aca4",
   "metadata": {},
   "outputs": [
    {
     "name": "stdout",
     "output_type": "stream",
     "text": [
      "element is not present\n"
     ]
    }
   ],
   "source": [
    "def lin_search(arr,x):\n",
    "    \n",
    "    arr = sorted(arr)\n",
    "    \n",
    "    for i in range(len(arr)):\n",
    "        if arr[i] ==x:\n",
    "            return i\n",
    "        \n",
    "    return \"element is not present\"\n",
    "    \n",
    "\n",
    "arr = [ 2, 3, 4, 10, 40,45,98,9,7,55,44,63,89]\n",
    "\n",
    "\n",
    "print(lin_search(arr, 444))"
   ]
  },
  {
   "cell_type": "code",
   "execution_count": 4,
   "id": "6b00ae90",
   "metadata": {},
   "outputs": [
    {
     "name": "stdout",
     "output_type": "stream",
     "text": [
      "enter the element to serarch :9\n",
      "before sorting array is :\n",
      "[2, 3, 4, 10, 40, 45, 98, 9, 7, 55, 44, 63, 89]\n",
      "after sorting array is :\n",
      "[2, 3, 4, 7, 9, 10, 40, 44, 45, 55, 63, 89, 98]\n",
      "the element is present  at 4\n"
     ]
    }
   ],
   "source": [
    "def lin_search(arr,x):\n",
    "    \n",
    "    print(\"before sorting array is :\")\n",
    "    print(arr)\n",
    "    arr = sorted(arr)\n",
    "    \n",
    "    print(\"after sorting array is :\")\n",
    "    \n",
    "    print(arr)\n",
    "    for i in range(len(arr)):\n",
    "        if arr[i] == x:\n",
    "            \n",
    "            return i\n",
    "        \n",
    "    return -1\n",
    "\n",
    "arr = [ 2, 3, 4, 10, 40,45,98,9,7,55,44,63,89]\n",
    "\n",
    "pos = int(input(\"enter the element to serarch :\"))\n",
    "\n",
    "result = lin_search(arr, pos)\n",
    "\n",
    "if result ==-1:\n",
    "    print(\"the element is not present in the array\")\n",
    "else:\n",
    "    print(\"the element is present  at {}\".format(result))"
   ]
  },
  {
   "cell_type": "markdown",
   "id": "cfca3ba2",
   "metadata": {},
   "source": [
    "### Python Program for Insertion Sort\n"
   ]
  },
  {
   "cell_type": "code",
   "execution_count": 5,
   "id": "977328c5",
   "metadata": {},
   "outputs": [
    {
     "name": "stdout",
     "output_type": "stream",
     "text": [
      "None\n",
      "[2, 3, 4, 7, 9, 10, 40, 44, 45, 55, 63, 89, 98]\n"
     ]
    }
   ],
   "source": [
    "def insertion_sort(arr):\n",
    "    n = len(arr)\n",
    "    \n",
    "    if n <=1:\n",
    "        return \n",
    "    \n",
    "    for i in range(1, n):\n",
    "        key = arr[i]\n",
    "        j = i-1\n",
    "        \n",
    "        while j>=0 and key < arr[j]:\n",
    "            arr[j+1] = arr[j]\n",
    "            j-=1\n",
    "            \n",
    "        arr[j+1] = key\n",
    "        \n",
    "\n",
    "arr = [ 2, 3, 4, 10, 40,45,98,9,7,55,44,63,89]\n",
    "print(insertion_sort(arr))   \n",
    "print(arr)"
   ]
  },
  {
   "cell_type": "markdown",
   "id": "a8fa0366",
   "metadata": {},
   "source": [
    "### Python Program for QuickSort\n"
   ]
  },
  {
   "cell_type": "code",
   "execution_count": 6,
   "id": "164cc28b",
   "metadata": {},
   "outputs": [
    {
     "name": "stdout",
     "output_type": "stream",
     "text": [
      "Unsorted Array\n",
      "[1, 7, 4, 1, 10, 9, -2]\n",
      "Sorted Array in Ascending Order:\n",
      "[-2, 1, 4, 7, 1, 9, 10]\n"
     ]
    }
   ],
   "source": [
    "def partition(arr, low , high):\n",
    "    \n",
    "    \n",
    "    pivot = arr[high]\n",
    "    \n",
    "    i = low -1 # so i will be -1\n",
    "    \n",
    "    \n",
    "    for j in range(low, high):\n",
    "        if arr[j] <= pivot:\n",
    "            \n",
    "            i = i+1\n",
    "            \n",
    "            (arr[i], arr[j]) = (arr[j], arr[i]) # swapping the numbers\n",
    "            \n",
    "            \n",
    "        (arr[i+1], arr[high]) = (arr[high], arr[i+1])\n",
    "            \n",
    "        return i + 1\n",
    "        \n",
    "        \n",
    "def quickSort(array, low , high):\n",
    "    \n",
    "    if low < high:\n",
    " \n",
    "       \n",
    "        pi = partition(array, low, high)\n",
    " \n",
    "        quickSort(array, low, pi - 1)\n",
    " \n",
    "        quickSort(array, pi + 1, high)\n",
    " \n",
    " \n",
    "data = [1, 7, 4, 1, 10, 9, -2]\n",
    "print(\"Unsorted Array\")\n",
    "print(data)\n",
    " \n",
    "size = len(data)\n",
    " \n",
    "quickSort(data, 0 , size-1)\n",
    " \n",
    "print('Sorted Array in Ascending Order:')\n",
    "print(data)    \n",
    "    "
   ]
  },
  {
   "cell_type": "code",
   "execution_count": 7,
   "id": "cbf3d9c6",
   "metadata": {},
   "outputs": [
    {
     "name": "stdout",
     "output_type": "stream",
     "text": [
      "Sorted Array in Ascending Order:\n",
      "[-2, 1, 1, 4, 7, 9, 10]\n"
     ]
    }
   ],
   "source": [
    "# using list comprehansion \n",
    "def quick_sort(arr):\n",
    "    \n",
    "    if len(arr)<=1:\n",
    "        return arr\n",
    "    else:\n",
    "        \n",
    "        pivot = arr[0]\n",
    "        left = [x for x in arr[1:] if x < pivot]\n",
    "        right = [x for x in arr[1:] if x >= pivot]\n",
    "\n",
    "        return quick_sort(left)+ [pivot]+ quick_sort(right)\n",
    "    \n",
    "arr = [1, 7, 4, 1, 10, 9, -2]\n",
    "sorted_arr = quick_sort(arr)\n",
    "print(\"Sorted Array in Ascending Order:\")\n",
    "print(sorted_arr)       "
   ]
  },
  {
   "cell_type": "markdown",
   "id": "8b7de0a2",
   "metadata": {},
   "source": [
    "### Python Program for Selection Sort\n"
   ]
  },
  {
   "cell_type": "code",
   "execution_count": 8,
   "id": "0262855f",
   "metadata": {},
   "outputs": [
    {
     "name": "stdout",
     "output_type": "stream",
     "text": [
      "array before sorting data:\n",
      "[-24, 45, 4, 11, -9, 878, -977, -2, 47] \n",
      "\n",
      "after sorting the data is :\n",
      "[-977, -24, -9, -2, 4, 11, 45, 47, 878]\n"
     ]
    }
   ],
   "source": [
    "def selection_sort(arr):\n",
    "    size = len(arr)\n",
    "    \n",
    "    print(\"array before sorting data:\")\n",
    "    \n",
    "\n",
    "    print(arr,\"\\n\")\n",
    "    for i in range(size):\n",
    "        \n",
    "        mid = i\n",
    "        \n",
    "        for j in range(i+1, size):\n",
    "            \n",
    "            if arr[j] < arr[mid]:\n",
    "                \n",
    "                mid = j\n",
    "                \n",
    "        (arr[i], arr[mid]) = (arr[mid], arr[i])\n",
    "    \n",
    "    print(\"after sorting the data is :\")    \n",
    "        \n",
    "    return arr\n",
    "\n",
    "arr = [-24, 45, 4, 11, -9,878,-977,-2,47]\n",
    "\n",
    "\n",
    "print(selection_sort(arr))"
   ]
  },
  {
   "cell_type": "markdown",
   "id": "bf201546",
   "metadata": {},
   "source": [
    "### Python Program for Bubble Sort\n"
   ]
  },
  {
   "cell_type": "markdown",
   "id": "33dac816",
   "metadata": {},
   "source": [
    "https://commons.wikimedia.org/wiki/File:Bubble-sort-example-300px.gif"
   ]
  },
  {
   "cell_type": "code",
   "execution_count": 9,
   "id": "04a43f3d",
   "metadata": {},
   "outputs": [
    {
     "name": "stdout",
     "output_type": "stream",
     "text": [
      "None\n",
      "-977,-24,-9,-2, 4, 11, 45, 47, 878,"
     ]
    }
   ],
   "source": [
    "def bubble_sort(arr):\n",
    "    size = len(arr)\n",
    "    \n",
    "    swapped = False\n",
    "    \n",
    "    for i in range(size-1):\n",
    "        \n",
    "        for j in range(0, size-1-i):\n",
    "            \n",
    "            if arr[j] > arr[j+1]:\n",
    "                swapped = True\n",
    "                \n",
    "                arr[j], arr[j+1] = arr[j+1], arr[j]\n",
    "        \n",
    "        if not swapped:\n",
    "            \n",
    "            return \n",
    "        \n",
    "        \n",
    "\n",
    "arr = [-24, 45, 4, 11, -9,878,-977,-2,47]\n",
    "print(bubble_sort(arr))\n",
    "for i in range(len(arr)):\n",
    "    print(\"% d\" % arr[i], end=\",\")"
   ]
  },
  {
   "cell_type": "markdown",
   "id": "f00f3662",
   "metadata": {},
   "source": [
    "### Python Program for Merge Sort\n"
   ]
  },
  {
   "cell_type": "code",
   "execution_count": 10,
   "id": "d7f180be",
   "metadata": {},
   "outputs": [
    {
     "name": "stdout",
     "output_type": "stream",
     "text": [
      "Original array: [38, 27, 43, 3, 9, 82, 10]\n",
      "Sorted array: [3, 9, 10, 27, 38, 43, 82]\n"
     ]
    }
   ],
   "source": [
    "def merge_sort(arr):\n",
    "    if len(arr) > 1:\n",
    "        mid = len(arr) // 2  \n",
    "        left_half = arr[:mid] \n",
    "        right_half = arr[mid:]\n",
    "\n",
    "        merge_sort(left_half)  # Sorting the first half\n",
    "        merge_sort(right_half)  # Sorting the second half\n",
    "\n",
    "        i = j = k = 0\n",
    "\n",
    "        while i < len(left_half) and j < len(right_half):\n",
    "            if left_half[i] < right_half[j]:\n",
    "                arr[k] = left_half[i]\n",
    "                i += 1\n",
    "            else:\n",
    "                arr[k] = right_half[j]\n",
    "                j += 1\n",
    "            k += 1\n",
    "\n",
    "        while i < len(left_half):\n",
    "            arr[k] = left_half[i]\n",
    "            i += 1\n",
    "            k += 1\n",
    "\n",
    "        while j < len(right_half):\n",
    "            arr[k] = right_half[j]\n",
    "            j += 1\n",
    "            k += 1\n",
    "\n",
    "arr = [38, 27, 43, 3, 9, 82, 10]\n",
    "print(\"Original array:\", arr)\n",
    "\n",
    "merge_sort(arr)\n",
    "print(\"Sorted array:\", arr)\n"
   ]
  },
  {
   "cell_type": "code",
   "execution_count": null,
   "id": "e0e059fa",
   "metadata": {},
   "outputs": [],
   "source": []
  },
  {
   "cell_type": "code",
   "execution_count": null,
   "id": "7fa57169",
   "metadata": {},
   "outputs": [],
   "source": []
  }
 ],
 "metadata": {
  "kernelspec": {
   "display_name": "Python 3 (ipykernel)",
   "language": "python",
   "name": "python3"
  },
  "language_info": {
   "codemirror_mode": {
    "name": "ipython",
    "version": 3
   },
   "file_extension": ".py",
   "mimetype": "text/x-python",
   "name": "python",
   "nbconvert_exporter": "python",
   "pygments_lexer": "ipython3",
   "version": "3.10.9"
  }
 },
 "nbformat": 4,
 "nbformat_minor": 5
}
